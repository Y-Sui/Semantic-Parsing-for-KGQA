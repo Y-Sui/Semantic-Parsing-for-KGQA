{
 "cells": [
  {
   "cell_type": "code",
   "execution_count": 2,
   "outputs": [],
   "source": [
    "from transformers import AutoTokenizer, T5ForConditionalGeneration, pipeline\n",
    "import pandas as pd\n",
    "import numpy as np\n",
    "import torch"
   ],
   "metadata": {
    "collapsed": false,
    "pycharm": {
     "name": "#%%\n"
    }
   }
  },
  {
   "cell_type": "code",
   "execution_count": 3,
   "outputs": [
    {
     "data": {
      "text/plain": "<transformers.pipelines.text2text_generation.SummarizationPipeline at 0x238d9769430>"
     },
     "execution_count": 3,
     "metadata": {},
     "output_type": "execute_result"
    }
   ],
   "source": [
    "checkpoint_path = \"output/example_train\"\n",
    "tokenizer = AutoTokenizer.from_pretrained(checkpoint_path)\n",
    "model = T5ForConditionalGeneration.from_pretrained(checkpoint_path)\n",
    "summarizer = pipeline(task=\"summarization\", model=model, tokenizer=tokenizer)\n",
    "summarizer"
   ],
   "metadata": {
    "collapsed": false,
    "pycharm": {
     "name": "#%%\n"
    }
   }
  },
  {
   "cell_type": "code",
   "execution_count": 6,
   "outputs": [
    {
     "data": {
      "text/plain": "SentenceTransformer(\n  (0): Transformer({'max_seq_length': 512, 'do_lower_case': False}) with Transformer model: BertModel \n  (1): Pooling({'word_embedding_dimension': 768, 'pooling_mode_cls_token': False, 'pooling_mode_mean_tokens': True, 'pooling_mode_max_tokens': False, 'pooling_mode_mean_sqrt_len_tokens': False})\n)"
     },
     "execution_count": 5,
     "metadata": {},
     "output_type": "execute_result"
    },
    {
     "data": {
      "text/plain": "SentenceTransformer(\n  (0): Transformer({'max_seq_length': 512, 'do_lower_case': False}) with Transformer model: BertModel \n  (1): Pooling({'word_embedding_dimension': 768, 'pooling_mode_cls_token': False, 'pooling_mode_mean_tokens': True, 'pooling_mode_max_tokens': False, 'pooling_mode_mean_sqrt_len_tokens': False})\n)"
     },
     "execution_count": 6,
     "metadata": {},
     "output_type": "execute_result"
    }
   ],
   "source": [
    "from sentence_transformers import SentenceTransformer\n",
    "sim_model = SentenceTransformer('hiiamsid/sentence_similarity_hindi')\n",
    "sim_model"
   ],
   "metadata": {
    "collapsed": false,
    "pycharm": {
     "name": "#%%\n"
    }
   }
  },
  {
   "cell_type": "code",
   "execution_count": 7,
   "outputs": [
    {
     "data": {
      "text/plain": "['What is the rating of Movie1?',\n 'What is the IMDB rating of Movie1?',\n 'The cast of Movie1.',\n 'Running time of Movie1.',\n \"When is Movie1's release date?\",\n 'The color of Movie1.',\n 'Person1 specialty.',\n 'Height of Person1.',\n \"Person1's birthday.\",\n \"Person1's death date.\",\n \"What is Person1's nickname?\",\n 'The trivia of Person1.',\n 'The trade mark of Person1.',\n 'Who acted Movie1?',\n \"Who is Movie1's director?\",\n 'Who wrote Movie1?',\n 'The editor of Movie1.',\n 'Who compose Movie1??',\n 'The cinematographer of Movie1.',\n 'The production-designer of Movie1.',\n 'What movie are performed by Person1?',\n 'what is the name of the movie directed by Person1?',\n 'What movie did Person1 write?',\n \"What movie's editor is Person1?\",\n 'A movie created by Person1.',\n \"What movie's cinematographer is Person1?\",\n 'what is the name of the movie designed by Person1?',\n 'what movies are producted by C1?',\n 'The movie distributed by C1.',\n 'what is the name of the company produce Movie1??',\n 'Company assigned Movie1.',\n 'what award does Movie1 win?',\n 'What awards did Person1 win?',\n 'People who direct films starring Person1.',\n 'Who wrote the movie starring Person1?',\n 'This man appointed a movie starring Person1.',\n 'Who wrote the movie starring Person1?',\n 'Who made the movie starring Person1?',\n 'Who designed the movie played by Person1?',\n 'Who acted in the film directed by Person1?',\n 'Who writed the movie directed by Person1?',\n 'Who chose the film directed by Person1?',\n 'Who composed the movie directed by Person1?',\n 'Who photographed the movie directed by Person1?',\n 'What is the name of the person designed the movie directed by Person1?',\n 'Who acted the movie writed by Person1?',\n 'Who guided the movie writed by Person1?',\n 'The person ecited the movie writed by Person1.',\n 'This man created a movie written by Person1.',\n 'Who made the movie written by Person1?',\n 'Who designed the movie written by Person1?',\n 'What is the name of the person acted the movie ecited by Person1?',\n 'What is the name of the person directed the movie ecited by Person1?',\n 'This man wrote the movie designated by Person1.',\n 'What is the name of the person composed the movie ecited by Person1?',\n 'The person who made the Person1 designated movie.',\n 'This man designed the movie designated by Person1.',\n 'The person acted the movie composed by Person1.',\n 'The person directed the movie composed by Person1.',\n 'Who writed the movie composed by Person1?',\n 'What is the name of the person ecited the movie composed by Person1?',\n 'What is the name of the person photographed the movie composed by Person1?',\n 'Who designed the film created by Person1?',\n 'Who acted in the film made by Person1?',\n 'What is the name of the person directed the movie photographed by Person1?',\n 'What is the name of the person writed the movie photographed by Person1?',\n 'The person ecited the movie photographed by Person1.',\n 'Who created the film made by Person1?',\n 'This man designed the movie made by Person1.',\n 'Who acted in the film designed by Person1?',\n 'What is the name of the person directed the movie designed by Person1?',\n 'Who wrote the movie designed by Person1?',\n 'Who ecited the movie designed by Person1?',\n 'The person composed the movie designed by Person1.',\n 'What is the name of the person photographed the movie designed by Person1?',\n 'What is the name of the person acted the movie producted by C1?',\n 'Who directed the film made by C1?',\n 'Who writed the movie producted by C1?',\n 'Who chose the film made by C1?',\n 'The person composed the movie producted by C1.',\n 'Who made the film made by C1?',\n 'What is the name of the person designed the movie producted by C1?',\n 'Who acted the movie distributed by C1?',\n 'Who directed the movie distributed by C1?',\n 'The person writed the movie distributed by C1.',\n 'What is the name of the person ecited the movie distributed by C1?',\n 'Who created the film released by C1?',\n 'Who made the C1 release?',\n 'What is the name of the person designed the movie distributed by C1?',\n 'What is the name of the company producted the movie acted by Person1?',\n 'The company producted the movie directed by Person1.',\n 'The company produced films written by Person1.',\n 'What company producted the movie ecited by Person1?',\n 'The company produced films created by Person1.',\n 'The company producted the movie photographed by Person1.',\n 'The company produced a film designed by Person1.',\n 'What company distributed the movie acted by Person1?',\n 'What is the name of the company distributed the movie directed by Person1?',\n 'What company distributed the movie writed by Person1?',\n 'What company distributed the movie ecited by Person1?',\n 'The company distributed the movie composed by Person1.',\n 'Which company released the films made by Person1?',\n 'What is the name of the company distributed the movie designed by Person1?',\n 'The film was acted by Movie1 actors.',\n 'What movie is directed by the director of Movie1?',\n 'What is the name of the movie writed by the writer of Movie1?',\n 'What is the name of the movie ecited by the editor of Movie1?',\n 'What is the name of the movie composed by the composer of Movie1?',\n 'What movie is photographed by the photographer of Movie1?',\n 'What movie did the production designer of Movie1 design?',\n 'The profession of the actor of Movie1.',\n 'What is the profession of the guide of Movie1?',\n 'What is the profession of the author of Movie1?',\n \"Movie1 editor's profession.\",\n 'Movie1 the profession of composer.',\n 'The profession of the cinematographer of Movie1.',\n 'What is the profession of Movie1 production designer?',\n 'What is the height of the Movie1 actor?',\n 'Movie1 height of controller.',\n 'What is the height of the writer of Movie1?',\n 'Movie1 editor height.',\n 'The height of the composer of Movie1.',\n \"Movie1 photographer's height.\",\n 'Movie1 height of production designer.',\n 'What is the birthday of Movie1 actor?',\n 'The birthday of the director of Movie1.',\n \"Movie1 author's birthday.\",\n 'What is the birthday of the editor of Movie1?',\n 'What is the birthday of the composer of Movie1?',\n 'What is the birthday of Movie1 photographer?',\n 'What is the birthday of Movie1 production designer?',\n 'The deathday of the actor of Movie1.',\n 'What is the deathday of the director of Movie1?',\n 'What is the deathday of the writer of Movie1?',\n 'What is the deathday of the editor of Movie1?',\n \"Movie1 the day of the composer's death.\",\n 'What is the deathday of the photographer of Movie1?',\n 'When is the birthday of the production designer of Movie1?',\n 'What is the nickname of the player in Movie1?',\n 'The nickname of the director of Movie1.',\n 'What is the nickname of the author of Movie1?',\n 'What is the nickname of Movie1 editor?',\n 'What is the nickname of the composer of Movie1?',\n 'What is the nickname of Movie1 photographer?',\n 'The nickname of the production designer of Movie1.',\n 'The trivia of the actor of Movie1.',\n 'What is the trivia of the director of Movie1?',\n 'What is the trivia of the Movie1 author?',\n 'What is the trivia of the editor of Movie1?',\n 'What is the trivia of the composer of Movie1?',\n 'What is the trivia of the photographer of Movie1?',\n 'What is the trivia of the production designer of Movie1?',\n 'Movie1 trademark of the actor.',\n 'What is the trade mark of the guide of Movie1?',\n 'Movie1 trademark of the author.',\n 'What is the trademark of Movie1 editor?',\n 'The trade mark of the composer of Movie1.',\n 'Movie1 a trademark of a cinematographer.',\n 'What is the trade mark of the production designer of Movie1?',\n 'What is the rating of the movie acted by Person1?',\n 'What is the rating of the movie directed by Person1?',\n 'What is the score of the film written by Person1?',\n 'What is the Douban rate of the movie ecited by Person1?',\n 'What is the rating of the movie composed by Person1?',\n 'What is the Douban rate of the movie photographed by Person1?',\n 'Person1 average rate of the design movie.',\n 'What is the IMDB percentage of Person1 films?',\n 'What is the IMDB rate of the movie directed by Person1?',\n 'IMDB rating of films written by Person1.',\n 'What is the IMDB rate of the movie ecited by Person1?',\n 'The IMDB rating of the movie composed by Person1.',\n 'The IMDB rating of the movie photographed by Person1.',\n 'The IMDB rating of the movie designed by Person1.',\n 'The cast of the movie acted by Person1.',\n 'The cast of the movie directed by Person1.',\n 'The cast of the movie written by Person1.',\n 'What is the cast of the movie ecited by Person1?',\n 'What is the cast of the movie composed by Person1?',\n 'The cast of the movie photographed by Person1.',\n 'Person1 designed movie cast.',\n 'What is the length of the movie acted by Person1?',\n 'What is the length of the movie directed by Person1?',\n 'What is the length of the movie writed by Person1?',\n 'What is the length of the movie ecited by Person1?',\n 'What is the length of the movie composed by Person1?',\n 'Person1 the running time of the movie taken.',\n 'What is the length of the movie designed by Person1?',\n 'The release date of the movie acted by Person1.',\n 'The release date of the movie directed by Person1.',\n 'When did the movie writed by Person1 released?',\n 'What is the release date of the movie ecited by Person1?',\n 'Person1 release date of the movie created.',\n 'When is the release date of the film made in Person1?',\n 'When is the release date of Person1 design film?',\n 'The color of the movie acted by Person1.',\n 'The color of the movie directed by Person1.',\n 'Person1 writes the color of the movie.',\n 'The color of the movie ecited by Person1.',\n 'What is the color of the movie composed by Person1?',\n 'Person1 the color of the movie taken.',\n 'What color is the film designed by Person1?',\n 'C1 average rate of film production.',\n 'What is the rating of the movie distributed by C1?',\n 'What is the IMDB rating of C1 films?',\n 'What is the IMDB rating of C1 films?',\n 'What is the cast of the movie producted by C1?',\n 'What is the cast of the movie distributed by C1?',\n 'What is the length of the movie producted by C1?',\n 'What is the length of the movie distributed by C1?',\n 'When is the release date of the film produced by C1?',\n 'When is the release date of the film released by C1?',\n 'What color is the film made by C1?',\n 'What color is the film released by C1?',\n 'What is the occupation of the person who plays the film directed by Person1?',\n 'What is the occupation of the person who plays the film written by Person1?',\n 'What is the profession of the person who directed the movie acted by Person1?',\n 'What is the profession of the person who directed the movie writed by Person1?',\n 'A career as a screenwriter for a movie starring Person1.',\n 'The profession of the person who writed the movie directed by Person1.',\n 'The height of the person who acted the movie directed by Person1.',\n 'The height of the person who acted the movie writed by Person1.',\n 'What is the height of the person who directed the movie acted by Person1?',\n 'How tall is the person who directed the film written by Person1?',\n 'What is the height of the screenwriter of the film starring Person1?',\n 'What is the height of the screenwriter of the film directed by Person1?',\n 'When is the birthday of the person who starred in the film directed by Person1?',\n 'Person1 wrote the birthday of the movie actor.',\n 'The birthday of the film director starring Person1.',\n 'The birthday of the person who directed the movie writed by Person1.',\n 'The birthday of the person who writed the movie acted by Person1.',\n 'What is the birthday of the person who writed the movie directed by Person1?',\n 'The deathday of the person who acted the movie directed by Person1.',\n 'When is the deathday of the person who acted the movie writed by Person1?',\n 'What is the deathday of the person who directed the movie acted by Person1?',\n 'When is the deathday of the person who directed the movie writed by Person1?',\n 'The deathday of the person who writed the movie acted by Person1.',\n 'When is the deathday of the person who writed the movie directed by Person1?',\n 'The nickname of the movie actor directed by Person1.',\n 'What is the nickname of the person who acted the movie writed by Person1?',\n 'What is the nickname of the person who directed the movie acted by Person1?',\n 'The nickname of the person who directed the movie writed by Person1.',\n 'The nickname of the author of the movie starring Person1.',\n 'The nickname of the person who writed the movie directed by Person1.',\n 'What is the trivia of the person who acted the movie directed by Person1?',\n 'Person1 the trivia of the actor in the film.',\n \"Person1 starring in the film director's trivia.\",\n 'What is the trivia of the people in the film written by director Person1?',\n 'What is the trivia of the person who writed the movie acted by Person1?',\n 'The trivia of the person who writed the movie directed by Person1.',\n 'The trade mark of the person who acted the movie directed by Person1.',\n 'What is the trademark of the person who plays the film written by Person1?',\n 'The trade mark of the person who directed the movie acted by Person1.',\n 'Person1 is the trademark of the film director.',\n 'The trade mark of the person who writed the movie acted by Person1.',\n 'Person1 the trademark of the filmmaker of the director.',\n 'What is the profession of the person who acted the movie producted by C1?',\n 'What is the profession of the person who acted the movie distributed by C1?',\n 'The profession of the person who directs the films made by Person1.',\n \"Person1 release of the film director's profession.\",\n 'What is the profession of the person who writed the movie producted by C1?',\n 'The profession of the person who writed the movie distributed by Person1.',\n 'The height of the person who acted the movie producted by Person1.',\n 'Person1 released the height of the movie actor.',\n 'The height of the person who directed the movie producted by Person1.',\n 'What is the height of the director of the C1 release?',\n 'Person1 the height of the author of the film.',\n 'What is the height of the person who writed the movie distributed by C1?',\n 'When is the birthday of the person who acted the movie producted by C1?',\n \"Person1 release of the movie actor's birthday.\",\n 'What is the birthday of the person who directed the movie producted by C1?',\n \"Person1 release of the film director's birthday.\",\n 'When is the birthday of the person who writed the movie producted by C1?',\n 'When is the birthday of the person who writed the movie distributed by C1?',\n 'When is the deathday of the person who acted the movie producted by C1?',\n 'When is the deathday of the person who acted the movie distributed by C1?',\n 'What is the deathday of the person who directed the movie producted by C1?',\n 'The deathday of the person who directed the movie distributed by Person1.',\n 'The day of death of the author of the film produced by Person1.',\n 'Person1 the date of death of the author of the film released.',\n 'The nickname of the person who acted the movie producted by Person1.',\n 'The nickname of the person who acted the movie distributed by Person1.',\n 'What is the nickname of the person who made the film by director C1?',\n 'The nickname of the person who directed the movie distributed by Person1.',\n 'The nickname of the person who writed the movie producted by Person1.',\n 'The nickname of the author of the movie released by Person1.',\n 'The trivia of the person who acted the movie producted by Person1.',\n 'What is the trivia of the person who acted the movie distributed by C1?',\n \"Person1 film director's trivia.\",\n 'What is the trivia of the person who directed the film released by C1?',\n 'The trivia of the person who writed the movie producted by Person1.',\n 'What is the trivia of the person who writed the movie distributed by C1?',\n 'What is the trademark of the actor in the C1 film?',\n 'What is the trade mark of the person who acted the movie distributed by C1?',\n 'The trade mark of the person who directed the movie producted by Person1.',\n 'Person1 is a trademark of the film director.',\n 'The trade mark of the person who writed the movie producted by Person1.',\n 'What is the trademark of the author of the film released by C1?',\n 'The average rate of the movie acted by the actor of Movie1.',\n 'What is the rating of the film directed by director Movie1?',\n 'Movie1 average rate of films written by authors.',\n 'What is the rating of the movie ecited by the editor of Movie1?',\n 'What is the score of the film created by Movie1 composer?',\n 'What is the rating of the movie photographed by the cinematographer of Movie1?',\n 'Movie1 average ratio of films designed by production designers.',\n 'Movie1 IMDB rating of films performed by actors.',\n 'IMDB rating of films directed by Movie1 director.',\n 'What is the IMDB rate of the movie writed by the writer of Movie1?',\n 'Movie1 edit the specified movie IMDB rating.',\n 'The IMDB rating of the movie composed by the composer of Movie1.',\n 'The IMDB rating of the movie photographed by the cinematographer of Movie1.',\n \"What is the IMDB rate at which Movie1's production designers design films?\",\n 'The actors in this film are played by Movie1.',\n 'The cast of a film directed by director Movie1.',\n 'What is the cast of the film written by the author of Movie1?',\n 'The cast of the movie ecited by the editor of Movie1.',\n 'The cast of a film by an Movie1 composer.',\n 'The cast of the movie photographed by the cinematographer of Movie1.',\n 'The cast of the movie designed by the production designer of Movie1.',\n \"What is the running time of the movie performed by Movie1's actors?\",\n 'Movie1 the running time of the film directed by the director.',\n 'Movie1 running time of the movie written by the author.',\n 'What is the length of the movie ecited by the editor of Movie1?',\n 'The runtime of the movie composed by the composer of Movie1.',\n \"Movie1's photographer shot the running time of the film.\",\n 'The runtime of the movie designed by the production designer of Movie1.',\n 'Movie1 release date of the film performed by the actor.',\n 'When is the release date of the movie directed by the director of Movie1?',\n 'When is the release date of the film written by the author of Movie1?',\n 'When did the Movie1 editor specify the release date of the film?',\n 'When is the release date of the movie composed by the composer of Movie1?',\n 'Movie1 release date of the film taken by the cinematographer.',\n 'The release date of the movie designed by the production designer of Movie1.',\n 'What is the color of the movie acted by the actor of Movie1?',\n 'What color is the film directed by director Movie1?',\n 'What is the color of the movie writed by the writer of Movie1?',\n 'What is the movie color assigned by Movie1 editor?',\n 'What color is the film created by Movie1 composer?',\n 'Movie1 photographers shoot the color of the film.',\n 'What color is the film designed by the production designer of Movie1?']"
     },
     "execution_count": 7,
     "metadata": {},
     "output_type": "execute_result"
    }
   ],
   "source": [
    "# input_query = [\"what are the languages spoken in the movies whose directors also directed [Son of Dracula]\",\n",
    "#          \"what are the languages spoken in the movies whose directors also directed [Son of Dracula]\"]\n",
    "# input_query_num = 50\n",
    "input_query = pd.read_csv(\"./data/test_339/example_test.csv\")[\"text\"]\n",
    "# input_query = input_query[:input_query_num].to_list()\n",
    "input_query = input_query.to_list()\n",
    "golden_path_target = pd.read_csv(\"./data/test_339/example_test.csv\")[\"summary\"]\n",
    "golden_path_target = golden_path_target.to_list()\n",
    "input_query"
   ],
   "metadata": {
    "collapsed": false,
    "pycharm": {
     "name": "#%%\n"
    }
   }
  },
  {
   "cell_type": "code",
   "execution_count": 8,
   "outputs": [
    {
     "data": {
      "text/plain": "(339, 768)"
     },
     "execution_count": 8,
     "metadata": {},
     "output_type": "execute_result"
    }
   ],
   "source": [
    "# obtain the embedding representation of the path targets\n",
    "df = pd.read_csv(\"./data/test_339/example_train.csv\")\n",
    "df = df.drop_duplicates(subset=['summary'])\n",
    "path_targets = df[\"summary\"].to_list()\n",
    "path_target_embedding = sim_model.encode(path_targets)\n",
    "path_target_embedding.shape"
   ],
   "metadata": {
    "collapsed": false,
    "pycharm": {
     "name": "#%%\n"
    }
   }
  },
  {
   "cell_type": "code",
   "execution_count": 9,
   "outputs": [
    {
     "name": "stderr",
     "output_type": "stream",
     "text": [
      "E:\\semantic-parsing-KBQA\\seq2seq\\transformers\\generation_utils.py:1624: UserWarning: __floordiv__ is deprecated, and its behavior will change in a future version of pytorch. It currently rounds toward 0 (like the 'trunc' function NOT 'floor'). This results in incorrect rounding for negative values. To keep the current behavior, use torch.div(a, b, rounding_mode='trunc'), or for actual floor division, use torch.div(a, b, rounding_mode='floor').\n",
      "  next_indices = next_tokens // vocab_size\n"
     ]
    },
    {
     "data": {
      "text/plain": "(339, 768)"
     },
     "execution_count": 9,
     "metadata": {},
     "output_type": "execute_result"
    }
   ],
   "source": [
    "# obtain the representation of the output of the query\n",
    "output_query = summarizer(input_query, max_length=23, min_length=8)\n",
    "output_query_list = []\n",
    "for i in range(len(output_query)):\n",
    "    output_query_list.append(output_query[i][\"summary_text\"])\n",
    "output_query_embedding = sim_model.encode(output_query_list)\n",
    "output_query_embedding.shape"
   ],
   "metadata": {
    "collapsed": false,
    "pycharm": {
     "name": "#%%\n"
    }
   }
  },
  {
   "cell_type": "code",
   "execution_count": 10,
   "outputs": [],
   "source": [
    "def cos_sim(a: torch.Tensor, b: torch.Tensor):\n",
    "    \"\"\"\n",
    "    Computes the cosine similarity cos_sim(a[i], b[j]) for all i and j.\n",
    "    :return: Matrix with res[i][j]  = cos_sim(a[i], b[j])\n",
    "    \"\"\"\n",
    "    if not isinstance(a, torch.Tensor):\n",
    "        a = torch.tensor(a)\n",
    "\n",
    "    if not isinstance(b, torch.Tensor):\n",
    "        b = torch.tensor(b)\n",
    "\n",
    "    if len(a.shape) == 1:\n",
    "        a = a.unsqueeze(0)\n",
    "\n",
    "    if len(b.shape) == 1:\n",
    "        b = b.unsqueeze(0)\n",
    "\n",
    "    a_norm = torch.nn.functional.normalize(a, p=2, dim=1)\n",
    "    b_norm = torch.nn.functional.normalize(b, p=2, dim=1)\n",
    "    return torch.mm(a_norm, b_norm.transpose(0, 1))"
   ],
   "metadata": {
    "collapsed": false,
    "pycharm": {
     "name": "#%%\n"
    }
   }
  },
  {
   "cell_type": "code",
   "execution_count": 11,
   "outputs": [],
   "source": [
    "# print(path_targets[0],output_query_list[0])\n",
    "# print(path_target_embedding[0],output_query_embedding[0])\n",
    "# cos_sim(path_target_embedding[0],output_query_embedding[0]).item()"
   ],
   "metadata": {
    "collapsed": false,
    "pycharm": {
     "name": "#%%\n"
    }
   }
  },
  {
   "cell_type": "code",
   "execution_count": 12,
   "outputs": [],
   "source": [
    "# for i in range(5):\n",
    "#     print(output_query_list[i], path_targets[i])"
   ],
   "metadata": {
    "collapsed": false,
    "pycharm": {
     "name": "#%%\n"
    }
   }
  },
  {
   "cell_type": "code",
   "execution_count": 13,
   "outputs": [],
   "source": [
    "# # test\n",
    "# transfer_output = []\n",
    "# for i in range(len(output_query_list)):\n",
    "#     target_path_index = 0\n",
    "#     max_score = 0.0\n",
    "#     for j in range(len(path_targets)):\n",
    "#         score = cos_sim(output_query_embedding[i], path_target_embedding[j]).item()\n",
    "#         if score > max_score:\n",
    "#             max_score = score\n",
    "#             target_path_index = j\n",
    "#         else:\n",
    "#             max_score = max_score\n",
    "# #   print(f\"{input_query[i]}; {output_query[i]['summary_text']}; G:{path_targets[target_path_index]}; A:{path_targets[i]}; Score:{max_score:.6f}\")\n",
    "#     transfer_output.append(path_targets[target_path_index])"
   ],
   "metadata": {
    "collapsed": false,
    "pycharm": {
     "name": "#%%\n"
    }
   }
  },
  {
   "cell_type": "code",
   "execution_count": 20,
   "outputs": [],
   "source": [
    "import heapq\n",
    "# test\n",
    "hop_number = 10\n",
    "transfer_output = []\n",
    "\n",
    "for i in range(len(output_query_list)):\n",
    "    target_path_index = 0\n",
    "    score_list = []\n",
    "    for j in range(len(path_targets)):\n",
    "        score = cos_sim(output_query_embedding[i], path_target_embedding[j]).item()\n",
    "        score_list.append(score)\n",
    "    max_score_l = heapq.nlargest(hop_number,score_list)\n",
    "    max_score_index = []\n",
    "    for i in max_score_l:\n",
    "        max_score_index.append(score_list.index(i))\n",
    "    # print(f\"{input_query[i]}; {output_query[i]['summary_text']}; G:{path_targets[target_path_index]}; A:{path_targets[i]}; Score:{max_score:.6f}\")\n",
    "    transfer_output.append([path_targets[max_score_index[i]] for i in range(len(max_score_index))])\n",
    "    # print(transfer_output)"
   ],
   "metadata": {
    "collapsed": false,
    "pycharm": {
     "name": "#%%\n"
    }
   }
  },
  {
   "cell_type": "code",
   "execution_count": 15,
   "outputs": [],
   "source": [
    "# for i in range(len(transfer_output)):\n",
    "#     print(f\"{transfer_output[i]} -> {golden_path_target[i]}\")"
   ],
   "metadata": {
    "collapsed": false,
    "pycharm": {
     "name": "#%%\n"
    }
   }
  },
  {
   "cell_type": "code",
   "execution_count": 16,
   "outputs": [
    {
     "ename": "FileNotFoundError",
     "evalue": "[Errno 2] No such file or directory: 'output/example_train/339_example_pred.csv'",
     "output_type": "error",
     "traceback": [
      "\u001B[1;31m---------------------------------------------------------------------------\u001B[0m",
      "\u001B[1;31mFileNotFoundError\u001B[0m                         Traceback (most recent call last)",
      "Input \u001B[1;32mIn [16]\u001B[0m, in \u001B[0;36m<cell line: 1>\u001B[1;34m()\u001B[0m\n\u001B[1;32m----> 1\u001B[0m df \u001B[38;5;241m=\u001B[39m \u001B[43mpd\u001B[49m\u001B[38;5;241;43m.\u001B[39;49m\u001B[43mread_csv\u001B[49m\u001B[43m(\u001B[49m\u001B[43mcheckpoint_path\u001B[49m\u001B[43m \u001B[49m\u001B[38;5;241;43m+\u001B[39;49m\u001B[43m \u001B[49m\u001B[38;5;124;43m\"\u001B[39;49m\u001B[38;5;124;43m/339_example_pred.csv\u001B[39;49m\u001B[38;5;124;43m\"\u001B[39;49m\u001B[43m)\u001B[49m\n\u001B[0;32m      2\u001B[0m df[\u001B[38;5;124m\"\u001B[39m\u001B[38;5;124mquestion\u001B[39m\u001B[38;5;124m\"\u001B[39m] \u001B[38;5;241m=\u001B[39m input_query\n\u001B[0;32m      3\u001B[0m df[\u001B[38;5;124m\"\u001B[39m\u001B[38;5;124mgenerated_chain\u001B[39m\u001B[38;5;124m\"\u001B[39m] \u001B[38;5;241m=\u001B[39m transfer_output\n",
      "File \u001B[1;32mC:\\WindowsApp\\Anaconda3\\envs\\transformer\\lib\\site-packages\\pandas\\io\\parsers.py:605\u001B[0m, in \u001B[0;36mread_csv\u001B[1;34m(filepath_or_buffer, sep, delimiter, header, names, index_col, usecols, squeeze, prefix, mangle_dupe_cols, dtype, engine, converters, true_values, false_values, skipinitialspace, skiprows, skipfooter, nrows, na_values, keep_default_na, na_filter, verbose, skip_blank_lines, parse_dates, infer_datetime_format, keep_date_col, date_parser, dayfirst, cache_dates, iterator, chunksize, compression, thousands, decimal, lineterminator, quotechar, quoting, doublequote, escapechar, comment, encoding, dialect, error_bad_lines, warn_bad_lines, delim_whitespace, low_memory, memory_map, float_precision, storage_options)\u001B[0m\n\u001B[0;32m    600\u001B[0m kwds_defaults \u001B[38;5;241m=\u001B[39m _refine_defaults_read(\n\u001B[0;32m    601\u001B[0m     dialect, delimiter, delim_whitespace, engine, sep, defaults\u001B[38;5;241m=\u001B[39m{\u001B[38;5;124m\"\u001B[39m\u001B[38;5;124mdelimiter\u001B[39m\u001B[38;5;124m\"\u001B[39m: \u001B[38;5;124m\"\u001B[39m\u001B[38;5;124m,\u001B[39m\u001B[38;5;124m\"\u001B[39m}\n\u001B[0;32m    602\u001B[0m )\n\u001B[0;32m    603\u001B[0m kwds\u001B[38;5;241m.\u001B[39mupdate(kwds_defaults)\n\u001B[1;32m--> 605\u001B[0m \u001B[38;5;28;01mreturn\u001B[39;00m \u001B[43m_read\u001B[49m\u001B[43m(\u001B[49m\u001B[43mfilepath_or_buffer\u001B[49m\u001B[43m,\u001B[49m\u001B[43m \u001B[49m\u001B[43mkwds\u001B[49m\u001B[43m)\u001B[49m\n",
      "File \u001B[1;32mC:\\WindowsApp\\Anaconda3\\envs\\transformer\\lib\\site-packages\\pandas\\io\\parsers.py:457\u001B[0m, in \u001B[0;36m_read\u001B[1;34m(filepath_or_buffer, kwds)\u001B[0m\n\u001B[0;32m    454\u001B[0m _validate_names(kwds\u001B[38;5;241m.\u001B[39mget(\u001B[38;5;124m\"\u001B[39m\u001B[38;5;124mnames\u001B[39m\u001B[38;5;124m\"\u001B[39m, \u001B[38;5;28;01mNone\u001B[39;00m))\n\u001B[0;32m    456\u001B[0m \u001B[38;5;66;03m# Create the parser.\u001B[39;00m\n\u001B[1;32m--> 457\u001B[0m parser \u001B[38;5;241m=\u001B[39m \u001B[43mTextFileReader\u001B[49m\u001B[43m(\u001B[49m\u001B[43mfilepath_or_buffer\u001B[49m\u001B[43m,\u001B[49m\u001B[43m \u001B[49m\u001B[38;5;241;43m*\u001B[39;49m\u001B[38;5;241;43m*\u001B[39;49m\u001B[43mkwds\u001B[49m\u001B[43m)\u001B[49m\n\u001B[0;32m    459\u001B[0m \u001B[38;5;28;01mif\u001B[39;00m chunksize \u001B[38;5;129;01mor\u001B[39;00m iterator:\n\u001B[0;32m    460\u001B[0m     \u001B[38;5;28;01mreturn\u001B[39;00m parser\n",
      "File \u001B[1;32mC:\\WindowsApp\\Anaconda3\\envs\\transformer\\lib\\site-packages\\pandas\\io\\parsers.py:814\u001B[0m, in \u001B[0;36mTextFileReader.__init__\u001B[1;34m(self, f, engine, **kwds)\u001B[0m\n\u001B[0;32m    811\u001B[0m \u001B[38;5;28;01mif\u001B[39;00m \u001B[38;5;124m\"\u001B[39m\u001B[38;5;124mhas_index_names\u001B[39m\u001B[38;5;124m\"\u001B[39m \u001B[38;5;129;01min\u001B[39;00m kwds:\n\u001B[0;32m    812\u001B[0m     \u001B[38;5;28mself\u001B[39m\u001B[38;5;241m.\u001B[39moptions[\u001B[38;5;124m\"\u001B[39m\u001B[38;5;124mhas_index_names\u001B[39m\u001B[38;5;124m\"\u001B[39m] \u001B[38;5;241m=\u001B[39m kwds[\u001B[38;5;124m\"\u001B[39m\u001B[38;5;124mhas_index_names\u001B[39m\u001B[38;5;124m\"\u001B[39m]\n\u001B[1;32m--> 814\u001B[0m \u001B[38;5;28mself\u001B[39m\u001B[38;5;241m.\u001B[39m_engine \u001B[38;5;241m=\u001B[39m \u001B[38;5;28;43mself\u001B[39;49m\u001B[38;5;241;43m.\u001B[39;49m\u001B[43m_make_engine\u001B[49m\u001B[43m(\u001B[49m\u001B[38;5;28;43mself\u001B[39;49m\u001B[38;5;241;43m.\u001B[39;49m\u001B[43mengine\u001B[49m\u001B[43m)\u001B[49m\n",
      "File \u001B[1;32mC:\\WindowsApp\\Anaconda3\\envs\\transformer\\lib\\site-packages\\pandas\\io\\parsers.py:1045\u001B[0m, in \u001B[0;36mTextFileReader._make_engine\u001B[1;34m(self, engine)\u001B[0m\n\u001B[0;32m   1041\u001B[0m     \u001B[38;5;28;01mraise\u001B[39;00m \u001B[38;5;167;01mValueError\u001B[39;00m(\n\u001B[0;32m   1042\u001B[0m         \u001B[38;5;124mf\u001B[39m\u001B[38;5;124m\"\u001B[39m\u001B[38;5;124mUnknown engine: \u001B[39m\u001B[38;5;132;01m{\u001B[39;00mengine\u001B[38;5;132;01m}\u001B[39;00m\u001B[38;5;124m (valid options are \u001B[39m\u001B[38;5;132;01m{\u001B[39;00mmapping\u001B[38;5;241m.\u001B[39mkeys()\u001B[38;5;132;01m}\u001B[39;00m\u001B[38;5;124m)\u001B[39m\u001B[38;5;124m\"\u001B[39m\n\u001B[0;32m   1043\u001B[0m     )\n\u001B[0;32m   1044\u001B[0m \u001B[38;5;66;03m# error: Too many arguments for \"ParserBase\"\u001B[39;00m\n\u001B[1;32m-> 1045\u001B[0m \u001B[38;5;28;01mreturn\u001B[39;00m \u001B[43mmapping\u001B[49m\u001B[43m[\u001B[49m\u001B[43mengine\u001B[49m\u001B[43m]\u001B[49m\u001B[43m(\u001B[49m\u001B[38;5;28;43mself\u001B[39;49m\u001B[38;5;241;43m.\u001B[39;49m\u001B[43mf\u001B[49m\u001B[43m,\u001B[49m\u001B[43m \u001B[49m\u001B[38;5;241;43m*\u001B[39;49m\u001B[38;5;241;43m*\u001B[39;49m\u001B[38;5;28;43mself\u001B[39;49m\u001B[38;5;241;43m.\u001B[39;49m\u001B[43moptions\u001B[49m\u001B[43m)\u001B[49m\n",
      "File \u001B[1;32mC:\\WindowsApp\\Anaconda3\\envs\\transformer\\lib\\site-packages\\pandas\\io\\parsers.py:1862\u001B[0m, in \u001B[0;36mCParserWrapper.__init__\u001B[1;34m(self, src, **kwds)\u001B[0m\n\u001B[0;32m   1859\u001B[0m kwds[\u001B[38;5;124m\"\u001B[39m\u001B[38;5;124musecols\u001B[39m\u001B[38;5;124m\"\u001B[39m] \u001B[38;5;241m=\u001B[39m \u001B[38;5;28mself\u001B[39m\u001B[38;5;241m.\u001B[39musecols\n\u001B[0;32m   1861\u001B[0m \u001B[38;5;66;03m# open handles\u001B[39;00m\n\u001B[1;32m-> 1862\u001B[0m \u001B[38;5;28;43mself\u001B[39;49m\u001B[38;5;241;43m.\u001B[39;49m\u001B[43m_open_handles\u001B[49m\u001B[43m(\u001B[49m\u001B[43msrc\u001B[49m\u001B[43m,\u001B[49m\u001B[43m \u001B[49m\u001B[43mkwds\u001B[49m\u001B[43m)\u001B[49m\n\u001B[0;32m   1863\u001B[0m \u001B[38;5;28;01massert\u001B[39;00m \u001B[38;5;28mself\u001B[39m\u001B[38;5;241m.\u001B[39mhandles \u001B[38;5;129;01mis\u001B[39;00m \u001B[38;5;129;01mnot\u001B[39;00m \u001B[38;5;28;01mNone\u001B[39;00m\n\u001B[0;32m   1864\u001B[0m \u001B[38;5;28;01mfor\u001B[39;00m key \u001B[38;5;129;01min\u001B[39;00m (\u001B[38;5;124m\"\u001B[39m\u001B[38;5;124mstorage_options\u001B[39m\u001B[38;5;124m\"\u001B[39m, \u001B[38;5;124m\"\u001B[39m\u001B[38;5;124mencoding\u001B[39m\u001B[38;5;124m\"\u001B[39m, \u001B[38;5;124m\"\u001B[39m\u001B[38;5;124mmemory_map\u001B[39m\u001B[38;5;124m\"\u001B[39m, \u001B[38;5;124m\"\u001B[39m\u001B[38;5;124mcompression\u001B[39m\u001B[38;5;124m\"\u001B[39m):\n",
      "File \u001B[1;32mC:\\WindowsApp\\Anaconda3\\envs\\transformer\\lib\\site-packages\\pandas\\io\\parsers.py:1357\u001B[0m, in \u001B[0;36mParserBase._open_handles\u001B[1;34m(self, src, kwds)\u001B[0m\n\u001B[0;32m   1353\u001B[0m \u001B[38;5;28;01mdef\u001B[39;00m \u001B[38;5;21m_open_handles\u001B[39m(\u001B[38;5;28mself\u001B[39m, src: FilePathOrBuffer, kwds: Dict[\u001B[38;5;28mstr\u001B[39m, Any]) \u001B[38;5;241m-\u001B[39m\u001B[38;5;241m>\u001B[39m \u001B[38;5;28;01mNone\u001B[39;00m:\n\u001B[0;32m   1354\u001B[0m     \u001B[38;5;124;03m\"\"\"\u001B[39;00m\n\u001B[0;32m   1355\u001B[0m \u001B[38;5;124;03m    Let the readers open IOHanldes after they are done with their potential raises.\u001B[39;00m\n\u001B[0;32m   1356\u001B[0m \u001B[38;5;124;03m    \"\"\"\u001B[39;00m\n\u001B[1;32m-> 1357\u001B[0m     \u001B[38;5;28mself\u001B[39m\u001B[38;5;241m.\u001B[39mhandles \u001B[38;5;241m=\u001B[39m \u001B[43mget_handle\u001B[49m\u001B[43m(\u001B[49m\n\u001B[0;32m   1358\u001B[0m \u001B[43m        \u001B[49m\u001B[43msrc\u001B[49m\u001B[43m,\u001B[49m\n\u001B[0;32m   1359\u001B[0m \u001B[43m        \u001B[49m\u001B[38;5;124;43m\"\u001B[39;49m\u001B[38;5;124;43mr\u001B[39;49m\u001B[38;5;124;43m\"\u001B[39;49m\u001B[43m,\u001B[49m\n\u001B[0;32m   1360\u001B[0m \u001B[43m        \u001B[49m\u001B[43mencoding\u001B[49m\u001B[38;5;241;43m=\u001B[39;49m\u001B[43mkwds\u001B[49m\u001B[38;5;241;43m.\u001B[39;49m\u001B[43mget\u001B[49m\u001B[43m(\u001B[49m\u001B[38;5;124;43m\"\u001B[39;49m\u001B[38;5;124;43mencoding\u001B[39;49m\u001B[38;5;124;43m\"\u001B[39;49m\u001B[43m,\u001B[49m\u001B[43m \u001B[49m\u001B[38;5;28;43;01mNone\u001B[39;49;00m\u001B[43m)\u001B[49m\u001B[43m,\u001B[49m\n\u001B[0;32m   1361\u001B[0m \u001B[43m        \u001B[49m\u001B[43mcompression\u001B[49m\u001B[38;5;241;43m=\u001B[39;49m\u001B[43mkwds\u001B[49m\u001B[38;5;241;43m.\u001B[39;49m\u001B[43mget\u001B[49m\u001B[43m(\u001B[49m\u001B[38;5;124;43m\"\u001B[39;49m\u001B[38;5;124;43mcompression\u001B[39;49m\u001B[38;5;124;43m\"\u001B[39;49m\u001B[43m,\u001B[49m\u001B[43m \u001B[49m\u001B[38;5;28;43;01mNone\u001B[39;49;00m\u001B[43m)\u001B[49m\u001B[43m,\u001B[49m\n\u001B[0;32m   1362\u001B[0m \u001B[43m        \u001B[49m\u001B[43mmemory_map\u001B[49m\u001B[38;5;241;43m=\u001B[39;49m\u001B[43mkwds\u001B[49m\u001B[38;5;241;43m.\u001B[39;49m\u001B[43mget\u001B[49m\u001B[43m(\u001B[49m\u001B[38;5;124;43m\"\u001B[39;49m\u001B[38;5;124;43mmemory_map\u001B[39;49m\u001B[38;5;124;43m\"\u001B[39;49m\u001B[43m,\u001B[49m\u001B[43m \u001B[49m\u001B[38;5;28;43;01mFalse\u001B[39;49;00m\u001B[43m)\u001B[49m\u001B[43m,\u001B[49m\n\u001B[0;32m   1363\u001B[0m \u001B[43m        \u001B[49m\u001B[43mstorage_options\u001B[49m\u001B[38;5;241;43m=\u001B[39;49m\u001B[43mkwds\u001B[49m\u001B[38;5;241;43m.\u001B[39;49m\u001B[43mget\u001B[49m\u001B[43m(\u001B[49m\u001B[38;5;124;43m\"\u001B[39;49m\u001B[38;5;124;43mstorage_options\u001B[39;49m\u001B[38;5;124;43m\"\u001B[39;49m\u001B[43m,\u001B[49m\u001B[43m \u001B[49m\u001B[38;5;28;43;01mNone\u001B[39;49;00m\u001B[43m)\u001B[49m\u001B[43m,\u001B[49m\n\u001B[0;32m   1364\u001B[0m \u001B[43m    \u001B[49m\u001B[43m)\u001B[49m\n",
      "File \u001B[1;32mC:\\WindowsApp\\Anaconda3\\envs\\transformer\\lib\\site-packages\\pandas\\io\\common.py:642\u001B[0m, in \u001B[0;36mget_handle\u001B[1;34m(path_or_buf, mode, encoding, compression, memory_map, is_text, errors, storage_options)\u001B[0m\n\u001B[0;32m    640\u001B[0m         errors \u001B[38;5;241m=\u001B[39m \u001B[38;5;124m\"\u001B[39m\u001B[38;5;124mreplace\u001B[39m\u001B[38;5;124m\"\u001B[39m\n\u001B[0;32m    641\u001B[0m     \u001B[38;5;66;03m# Encoding\u001B[39;00m\n\u001B[1;32m--> 642\u001B[0m     handle \u001B[38;5;241m=\u001B[39m \u001B[38;5;28;43mopen\u001B[39;49m\u001B[43m(\u001B[49m\n\u001B[0;32m    643\u001B[0m \u001B[43m        \u001B[49m\u001B[43mhandle\u001B[49m\u001B[43m,\u001B[49m\n\u001B[0;32m    644\u001B[0m \u001B[43m        \u001B[49m\u001B[43mioargs\u001B[49m\u001B[38;5;241;43m.\u001B[39;49m\u001B[43mmode\u001B[49m\u001B[43m,\u001B[49m\n\u001B[0;32m    645\u001B[0m \u001B[43m        \u001B[49m\u001B[43mencoding\u001B[49m\u001B[38;5;241;43m=\u001B[39;49m\u001B[43mioargs\u001B[49m\u001B[38;5;241;43m.\u001B[39;49m\u001B[43mencoding\u001B[49m\u001B[43m,\u001B[49m\n\u001B[0;32m    646\u001B[0m \u001B[43m        \u001B[49m\u001B[43merrors\u001B[49m\u001B[38;5;241;43m=\u001B[39;49m\u001B[43merrors\u001B[49m\u001B[43m,\u001B[49m\n\u001B[0;32m    647\u001B[0m \u001B[43m        \u001B[49m\u001B[43mnewline\u001B[49m\u001B[38;5;241;43m=\u001B[39;49m\u001B[38;5;124;43m\"\u001B[39;49m\u001B[38;5;124;43m\"\u001B[39;49m\u001B[43m,\u001B[49m\n\u001B[0;32m    648\u001B[0m \u001B[43m    \u001B[49m\u001B[43m)\u001B[49m\n\u001B[0;32m    649\u001B[0m \u001B[38;5;28;01melse\u001B[39;00m:\n\u001B[0;32m    650\u001B[0m     \u001B[38;5;66;03m# Binary mode\u001B[39;00m\n\u001B[0;32m    651\u001B[0m     handle \u001B[38;5;241m=\u001B[39m \u001B[38;5;28mopen\u001B[39m(handle, ioargs\u001B[38;5;241m.\u001B[39mmode)\n",
      "\u001B[1;31mFileNotFoundError\u001B[0m: [Errno 2] No such file or directory: 'output/example_train/339_example_pred.csv'"
     ]
    }
   ],
   "source": [
    "df = pd.read_csv(checkpoint_path + \"/339_example_pred.csv\")\n",
    "df[\"question\"] = input_query\n",
    "df[\"generated_chain\"] = transfer_output\n",
    "df[\"actual_chain\"] = path_targets\n",
    "df.to_csv(\"./data/test_339/example_test_pred.csv\", index=False, sep=\",\")"
   ],
   "metadata": {
    "collapsed": false,
    "pycharm": {
     "name": "#%%\n"
    }
   }
  },
  {
   "cell_type": "code",
   "execution_count": 21,
   "outputs": [
    {
     "name": "stdout",
     "output_type": "stream",
     "text": [
      "Accuracy: 0.8466076696165191\n"
     ]
    }
   ],
   "source": [
    "# evaluate the t5 seq2seq\n",
    "assert len(transfer_output) == len(golden_path_target)\n",
    "acc = 0\n",
    "# # Hop1\n",
    "# for i in range(len(transfer_output)):\n",
    "#     if transfer_output[i] == golden_path_target[i]:\n",
    "#         acc += 1\n",
    "# print(f\"Accuracy: {acc/len(transfer_output)}\")\n",
    "\n",
    "# Hop_n\n",
    "for i in range(len(transfer_output)):\n",
    "    if golden_path_target[i] in transfer_output[i]:\n",
    "        acc += 1\n",
    "print(f\"Accuracy: {acc/len(transfer_output)}\")"
   ],
   "metadata": {
    "collapsed": false,
    "pycharm": {
     "name": "#%%\n"
    }
   }
  }
 ],
 "metadata": {
  "kernelspec": {
   "name": "transformer",
   "language": "python",
   "display_name": "transformer"
  },
  "language_info": {
   "codemirror_mode": {
    "name": "ipython",
    "version": 2
   },
   "file_extension": ".py",
   "mimetype": "text/x-python",
   "name": "python",
   "nbconvert_exporter": "python",
   "pygments_lexer": "ipython2",
   "version": "2.7.6"
  }
 },
 "nbformat": 4,
 "nbformat_minor": 0
}