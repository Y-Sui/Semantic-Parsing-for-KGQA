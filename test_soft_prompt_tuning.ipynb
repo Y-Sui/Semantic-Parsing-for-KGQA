{
 "cells": [
  {
   "cell_type": "code",
   "execution_count": 66,
   "metadata": {
    "pycharm": {
     "name": "#%%\n"
    }
   },
   "outputs": [],
   "source": [
    "from transformers import AutoTokenizer, T5ForConditionalGeneration\n",
    "# from soft_prompt_tuning import SoftEmbedding\n",
    "import torch\n",
    "import torch.nn as nn"
   ]
  },
  {
   "cell_type": "code",
   "execution_count": 81,
   "outputs": [],
   "source": [
    "tokenizer = AutoTokenizer.from_pretrained(\"checkpoint/t5-base\")\n",
    "model = T5ForConditionalGeneration.from_pretrained(\"checkpoint/t5-base\")"
   ],
   "metadata": {
    "collapsed": false,
    "pycharm": {
     "name": "#%%\n"
    }
   }
  },
  {
   "cell_type": "code",
   "execution_count": 82,
   "outputs": [],
   "source": [
    "class SoftEmbedding(nn.Module):\n",
    "    def __init__(self, wte=nn.Embedding, n_tokens=10, random_range=0.5, initialize_from_vocab=True):\n",
    "        \"\"\"appends learned embedding to\n",
    "        Args:\n",
    "            wte (nn.Embedding): original transformer word embedding\n",
    "            n_tokens (int, optional): number of tokens for task. Defaults to 10.\n",
    "            random_range (float, optional): range to init embedding (if not initialize from vocab). Defaults to 0.5.\n",
    "            initialize_from_vocab (bool, optional): initialize from default vocab. Defaults to True.\n",
    "        \"\"\"\n",
    "        super(SoftEmbedding, self).__init__()\n",
    "        self.wte = wte\n",
    "        self.n_tokens = n_tokens\n",
    "        self.random_range = random_range\n",
    "        self.initialize_from_vocab = initialize_from_vocab\n",
    "        parameters = self.initialize_embedding()\n",
    "        self.learned_embedding = nn.parameter.Parameter(parameters)\n",
    "\n",
    "    def initialize_embedding(self):\n",
    "        \"\"\"initializes learned embedding\n",
    "        Args:\n",
    "            same as __init__\n",
    "        Returns:\n",
    "            torch.float: initialized using original schemes\n",
    "        Description:\n",
    "            # if initialize from the base model vocab, return the num:self.n_tokens weights from the base model embedding.\n",
    "            # if not, random generate the soft embedding with the same size as above\n",
    "        \"\"\"\n",
    "        if self.initialize_from_vocab:\n",
    "            return self.wte.weight[:self.n_tokens].clone().detach() #.clone().detach() refers to create a new memory, and remove the tensor from the computational graph\n",
    "        return torch.FloatTensor(self.n_tokens, self.wte.weight.size(1)).uniform_(-self.random_range, self.random_range) # torch.FloatTensor(a,b), create a random tensor according to the shape of a and b;\n",
    "\n",
    "    def forward(self, tokens):\n",
    "        \"\"\"run forward pass\n",
    "        Args:\n",
    "            tokens (torch.long): input tokens before encoding\n",
    "        Returns:\n",
    "            torch.float: encoding of text concatenated with learned task specific embedding\n",
    "        \"\"\"\n",
    "        input_embedding = self.wte(tokens[:, self.n_tokens:])\n",
    "        learned_embedding = self.learned_embedding.repeat(input_embedding.size(0), 1, 1)\n",
    "        return torch.cat([learned_embedding, input_embedding], 1)"
   ],
   "metadata": {
    "collapsed": false,
    "pycharm": {
     "name": "#%%\n"
    }
   }
  },
  {
   "cell_type": "code",
   "execution_count": 83,
   "metadata": {
    "pycharm": {
     "name": "#%%\n"
    }
   },
   "outputs": [],
   "source": [
    "n_tokens = 5\n",
    "s_wte = SoftEmbedding(wte=model.get_input_embeddings(),\n",
    "                      n_tokens=n_tokens,\n",
    "                      random_range=0.5,\n",
    "                      initialize_from_vocab=True)\n",
    "model.set_input_embeddings(s_wte)"
   ]
  },
  {
   "cell_type": "code",
   "execution_count": 94,
   "outputs": [],
   "source": [
    "\"\"\"\n",
    "1.need to pad attention_mask and input_ids to be full seq_len + n_learned_tokens\n",
    "2.even though it does not matter what you pad input_ids with, it's just to make HF happy, here, we use -1 to label these stuffs\n",
    "\"\"\"\n",
    "inputs = [\"what is the name of the Movie1s distributed by Company1?\", \"what is the name of the company distributed the Movie1?\"]\n",
    "labels = [\"distributor_to_movie\", \"movie_to_distributor\"]\n",
    "task_prefix = \"summarize: \" # add the task prefix summarize: <s1> to improve the model performance\n",
    "max_source_length = 50\n",
    "max_target_length = 15\n",
    "\n",
    "# encode the inputs\n",
    "encoding = tokenizer([task_prefix + sequence for sequence in inputs],\n",
    "                     padding='longest',\n",
    "                     max_length=max_source_length,\n",
    "                     truncation=True,\n",
    "                     return_tensors=\"pt\")\n",
    "input_ids, attention_mask = encoding.input_ids, encoding.attention_mask\n",
    "\n",
    "# encode the targets\n",
    "target_encoding = tokenizer(labels,\n",
    "                            padding='longest',\n",
    "                            max_length=max_target_length,\n",
    "                            truncation=True,\n",
    "                            return_tensors='pt')\n",
    "decoder_attention_mask = target_encoding.attention_mask\n",
    "labels = target_encoding.input_ids\n",
    "\n",
    "\n",
    "# torch.full(input_size, fill_value), fill the input_size with the fill_value\n",
    "inputs['input_ids'] = torch.cat([torch.full((1,n_tokens), -1), inputs['input_ids']], 1)\n",
    "inputs['attention_mask'] = torch.cat([torch.full((1,n_tokens), -1), inputs['attention_mask']], 1)"
   ],
   "metadata": {
    "collapsed": false,
    "pycharm": {
     "name": "#%%\n"
    }
   }
  },
  {
   "cell_type": "code",
   "execution_count": 96,
   "outputs": [
    {
     "data": {
      "text/plain": "tensor(6.0733, grad_fn=<NllLossBackward0>)"
     },
     "execution_count": 96,
     "metadata": {},
     "output_type": "execute_result"
    }
   ],
   "source": [
    "loss = model(input_ids=inputs.input_ids, attention_mask=inputs.attention_mask, labels=labels.input_ids).loss"
   ],
   "metadata": {
    "collapsed": false,
    "pycharm": {
     "name": "#%%\n"
    }
   }
  },
  {
   "cell_type": "code",
   "execution_count": null,
   "metadata": {
    "pycharm": {
     "name": "#%%\n"
    }
   },
   "outputs": [],
   "source": [
    "# input_query = \"which are the directors of the films written by the writer of [The Green Mile]\"\n",
    "input_query = \"which are the directors\"\n",
    "\n",
    "inputs = tokenizer(input_query, return_tensors=\"pt\", truncation=True)\n",
    "inputs['input_ids'] = torch.cat([torch.full((1,n_tokens), 50256), inputs['input_ids']], 1)\n",
    "inputs['attention_mask'] = torch.cat([torch.full((1,n_tokens), 1), inputs['attention_mask']], 1)\n",
    "\n",
    "print(inputs['input_ids'].shape)\n",
    "tokens_to_generate = 10\n",
    "\n",
    "# outputs = model.generate(**inputs, max_length=inputs['input_ids'].size(1)+tokens_to_generate, use_cache=False)\n",
    "# outputs = model.generate(**inputs, max_length=inputs['input_ids'].size(1)+tokens_to_generate, use_cache=False)\n",
    "outputs = model.generate(**inputs, max_length=inputs['input_ids'].size(1)+tokens_to_generate, use_cache=False)"
   ]
  },
  {
   "cell_type": "code",
   "execution_count": null,
   "outputs": [],
   "source": [
    "outputs = model.generate(\n",
    "    inputs[\"input_ids\"], max_length=150, min_length=40, length_penalty=2.0, num_beams=4, early_stopping=True\n",
    ")"
   ],
   "metadata": {
    "collapsed": false,
    "pycharm": {
     "name": "#%%\n"
    }
   }
  },
  {
   "cell_type": "code",
   "execution_count": null,
   "outputs": [],
   "source": [
    "inputs = tokenizer(\"may the force\", return_tensors=\"pt\")\n",
    "\n",
    "# need to pad attention_mask and input_ids to be full seq_len + n_learned_tokens\n",
    "# even though it does not matter what you pad input_ids with, it's just to make HF happy\n",
    "inputs['input_ids'] = torch.cat([torch.full((1,n_tokens), 50256), inputs['input_ids']], 1)\n",
    "inputs['attention_mask'] = torch.cat([torch.full((1,n_tokens), 1), inputs['attention_mask']], 1)\n",
    "\n",
    "tokens_to_generate = 10\n",
    "\n",
    "outputs = model.generate(**inputs, max_length=inputs['input_ids'].size(1)+tokens_to_generate, use_cache=False)"
   ],
   "metadata": {
    "collapsed": false,
    "pycharm": {
     "name": "#%%\n"
    }
   }
  },
  {
   "cell_type": "code",
   "execution_count": null,
   "outputs": [],
   "source": [
    "print(outputs)\n",
    "print(tokenizer.decode(outputs[0]))"
   ],
   "metadata": {
    "collapsed": false,
    "pycharm": {
     "name": "#%%\n"
    }
   }
  }
 ],
 "metadata": {
  "kernelspec": {
   "name": "transformer",
   "language": "python",
   "display_name": "transformer"
  },
  "language_info": {
   "codemirror_mode": {
    "name": "ipython",
    "version": 3
   },
   "file_extension": ".py",
   "mimetype": "text/x-python",
   "name": "python",
   "nbconvert_exporter": "python",
   "pygments_lexer": "ipython3",
   "version": "3.8.5"
  }
 },
 "nbformat": 4,
 "nbformat_minor": 4
}